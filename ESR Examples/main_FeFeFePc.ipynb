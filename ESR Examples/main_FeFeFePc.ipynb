{
 "cells": [
  {
   "cell_type": "code",
   "execution_count": null,
   "metadata": {},
   "outputs": [],
   "source": [
    "# Import Simulation Class\n",
    "import sys\n",
    "sys.path.append('..')  # Add parent directory to the system path\n",
    "from ESR_STM_SpinSimulation import SpinSys\n",
    "import numpy as np\n",
    "%load_ext autoreload\n",
    "%autoreload 2"
   ]
  },
  {
   "cell_type": "code",
   "execution_count": null,
   "metadata": {},
   "outputs": [],
   "source": [
    "# Define the Spin System\n",
    "Spins=[1,0.5]\n",
    "S = SpinSys(Spins)\n",
    "S.B=[0,0,0.5]\n",
    "S.BTip=[1e-7,0,0]\n",
    "S.tip='f'\n",
    "S.TipPolarization=[0,0,0.1]\n",
    "S.T=1\n",
    "S.Jvector=np.array([[14.65,14.6,14.6]])\n",
    "S.Dvector=np.array([-1.9,0])\n",
    "S.AtomPositions=np.array([[0,0,0],[2,1,0]])\n",
    "S.DipoleBool=[False]\n",
    "S.V_DC=-100"
   ]
  },
  {
   "cell_type": "markdown",
   "metadata": {},
   "source": [
    "Basic Spin Calculations"
   ]
  },
  {
   "cell_type": "code",
   "execution_count": null,
   "metadata": {},
   "outputs": [],
   "source": [
    "S.calcSpinOperators()\n",
    "S.calcEigEnergies()\n",
    "S.calcEigStates()\n",
    "S.showEigenMatrix('p')\n",
    "S.plotEnergyVsSz()\n",
    "S.plotZeemanDiagramm(Brange=[0,1],N=100)"
   ]
  },
  {
   "cell_type": "markdown",
   "metadata": {},
   "source": [
    "ESR Experiments"
   ]
  },
  {
   "cell_type": "code",
   "execution_count": null,
   "metadata": {},
   "outputs": [],
   "source": [
    "#S.calcESR_Benjamin();\n",
    "S.ReadoutSpin=0\n",
    "S.plotESRTipfieldsweep(N_B=500,lw=0.2,BTipLimits=[-0.02,0.02])"
   ]
  },
  {
   "cell_type": "markdown",
   "metadata": {},
   "source": [
    "dIdV Measurement"
   ]
  },
  {
   "cell_type": "code",
   "execution_count": null,
   "metadata": {},
   "outputs": [],
   "source": [
    "import time\n",
    "import matplotlib.pyplot as plt\n",
    "Num=10000\n",
    "S.T=1\n",
    "start_time = time.time()\n",
    "x0,y0 = S.calcIETS_0(N=Num,plot=False,Vrange=50)\n",
    "print(f\"IETS0 took {time.time() - start_time:.4f} seconds\")\n",
    "\n",
    "start_time = time.time()\n",
    "x2,y2,_ = S.calcIETS_2(AllowPumping=False,N=Num,plot=False,Vrange=50)\n",
    "print(f\"IETS2 took {time.time() - start_time:.4f} seconds\")\n",
    "\n",
    "plt.figure(22)\n",
    "plt.plot(x0,y0,'r')\n",
    "plt.plot(x2,y2,'b')\n",
    "plt.legend(['IETS0','IETS2'])\n",
    "plt.show()"
   ]
  }
 ],
 "metadata": {
  "kernelspec": {
   "display_name": "Python 3",
   "language": "python",
   "name": "python3"
  },
  "language_info": {
   "codemirror_mode": {
    "name": "ipython",
    "version": 3
   },
   "file_extension": ".py",
   "mimetype": "text/x-python",
   "name": "python",
   "nbconvert_exporter": "python",
   "pygments_lexer": "ipython3",
   "version": "3.13.0"
  }
 },
 "nbformat": 4,
 "nbformat_minor": 2
}
