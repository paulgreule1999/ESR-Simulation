{
 "cells": [
  {
   "cell_type": "code",
   "execution_count": null,
   "metadata": {},
   "outputs": [],
   "source": [
    "# Import Simulation Class\n",
    "import sys\n",
    "import cProfile\n",
    "import pstats\n",
    "sys.path.append('..')  # Add parent directory to the system path\n",
    "from ESR_STM_SpinSimulation import SpinSys\n",
    "import numpy as np\n",
    "%load_ext autoreload\n",
    "%autoreload 2"
   ]
  },
  {
   "cell_type": "code",
   "execution_count": null,
   "metadata": {},
   "outputs": [],
   "source": [
    "import time\n",
    "\n",
    "# Define the Spin System\n",
    "Spins = [1, 0.5, 1, 0.5]\n",
    "S = SpinSys(Spins)\n",
    "S.B = [0, 0, 0.5]\n",
    "S.BTip = [1e-7, 0, 0]\n",
    "S.tip = 'f'\n",
    "S.TipPolarization = [0, 0, 0.4]\n",
    "S.T = 1\n",
    "S.Jvector[0, :] = np.array([14.65, 14.6, 14.6])\n",
    "S.Jvector[5, :] = np.array([14.65, 14.6, 14.6])\n",
    "S.Jvector[3, :] = np.array([1.0 * S.GHztomeVConversion, 1.0 * S.GHztomeVConversion, 1.0 * S.GHztomeVConversion])\n",
    "S.Dvector = np.array([-1.9, 0, -1.9, 0])\n",
    "S.AtomPositions = np.array([[0, 0, 0], [2, 1, 0], [5, 1, 0], [7, 2, 0]])\n",
    "S.DipoleBool = [False, False, False, True, False, False]\n",
    "S.V_DC = -100\n",
    "S.calcSpinOperators()\n",
    "S.calcEigEnergies()\n",
    "S.calcEigStates()\n",
    "S.showEigenMatrix()\n",
    "#print(S.D)\n"
   ]
  },
  {
   "cell_type": "code",
   "execution_count": null,
   "metadata": {},
   "outputs": [],
   "source": [
    "import time\n",
    "\n",
    "# Define the Spin System\n",
    "Spins = [1, 0.5]\n",
    "S = SpinSys(Spins)\n",
    "S.B = [0, 0, 0.5]\n",
    "S.BTip = [1e-7, 0, 0]\n",
    "S.tip = 'f'\n",
    "S.TipPolarization = [0, 0, 0.4]\n",
    "S.T = 1\n",
    "S.Jvector[0, :] = np.array([14.65, 14.6, 14.6])\n",
    "S.Dvector = np.array([-1.9, 0])\n",
    "S.AtomPositions = np.array([[0, 0, 0], [2, 1, 0]])\n",
    "S.DipoleBool = [False]\n",
    "S.V_DC = -100\n",
    "S.calcSpinOperators()\n",
    "S.calcEigEnergies()\n",
    "S.calcEigStates()\n",
    "S.showEigenMatrix('a')"
   ]
  },
  {
   "cell_type": "code",
   "execution_count": null,
   "metadata": {},
   "outputs": [],
   "source": [
    "start_time = time.time()\n",
    "S.G_tt=1\n",
    "S.calcIETS_2(AllowPumping=True,N=500)\n",
    "#S.calcRates(AllowPumping=False)\n",
    "#RI=S.calcRateIntegrals(0)\n",
    "#S.calcRateIntegrals(1e-6)\n",
    "print(f\"Function took {time.time() - start_time:.4f} seconds\")\n"
   ]
  }
 ],
 "metadata": {
  "kernelspec": {
   "display_name": "Python 3",
   "language": "python",
   "name": "python3"
  },
  "language_info": {
   "codemirror_mode": {
    "name": "ipython",
    "version": 3
   },
   "file_extension": ".py",
   "mimetype": "text/x-python",
   "name": "python",
   "nbconvert_exporter": "python",
   "pygments_lexer": "ipython3",
   "version": "3.13.0"
  }
 },
 "nbformat": 4,
 "nbformat_minor": 2
}
