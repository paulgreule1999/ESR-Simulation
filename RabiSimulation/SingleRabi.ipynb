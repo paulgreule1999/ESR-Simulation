{
 "cells": [
  {
   "cell_type": "code",
   "execution_count": null,
   "metadata": {},
   "outputs": [],
   "source": [
    "# Imports and Definitions\n",
    "import numpy as np\n",
    "import matplotlib.pyplot as plt\n",
    "from scipy.optimize import curve_fit\n",
    "\n",
    "\n",
    "# Constants\n",
    "\n",
    "# Define the Rabi oscillation function with damping\n",
    "def Rabi(t, A, omega, T2, phi, C):\n",
    "    \"\"\"\n",
    "    Rabi oscillation with damping.\n",
    "    t: Time (independent variable)\n",
    "    A: Amplitude of oscillation\n",
    "    omega: Angular frequency of oscillation\n",
    "    gamma: Damping factor\n",
    "    phi: Phase shift\n",
    "    C: Constant offset\n",
    "    \"\"\"\n",
    "    return A * np.exp(-t/T2) * np.sin(omega * t + phi) + C\n",
    "\n",
    "def Rabi_rate(Omega0, Delta):\n",
    "    \"\"\"\n",
    "    Calculate the detuning based on the Rabi frequency and the detuning parameter.\n",
    "    Omega0: Rabi frequency\n",
    "    Delta: Detuning parameter\n",
    "    \"\"\"\n",
    "    return np.sqrt(Omega0**2 + Delta**2)\n",
    "\n",
    "def Rabi_amp(A0, Omega0, Delta):\n",
    "    \"\"\"\n",
    "    Calculate the amplitude based on the initial amplitude.\n",
    "    A0: Initial amplitude\n",
    "    \"\"\"\n",
    "    return A0 * Omega0**2/Rabi_rate(Omega0, Delta)**2\n",
    "\n",
    "def mhz_to_rad_ns(frequency_mhz):\n",
    "    \"\"\"\n",
    "    Convert frequency from MHz to angular frequency in rad/ns.\n",
    "    frequency_mhz: Frequency in MHz\n",
    "    Returns: Angular frequency in rad/ns\n",
    "    \"\"\"\n",
    "    return 2 * np.pi * frequency_mhz / 1e3\n",
    "\n",
    "def rad_ns_to_mhz(omega):\n",
    "    \"\"\"\n",
    "    Convert angular frequency from rad/ns to MHz.\n",
    "    omega: Angular frequency in rad/ns\n",
    "    Returns: Frequency in MHz\n",
    "    \"\"\"\n",
    "    return omega / (2 * np.pi) * 1e3\n"
   ]
  },
  {
   "cell_type": "code",
   "execution_count": 2,
   "metadata": {},
   "outputs": [
    {
     "ename": "NameError",
     "evalue": "name 'np' is not defined",
     "output_type": "error",
     "traceback": [
      "\u001b[1;31m---------------------------------------------------------------------------\u001b[0m",
      "\u001b[1;31mNameError\u001b[0m                                 Traceback (most recent call last)",
      "Cell \u001b[1;32mIn[2], line 2\u001b[0m\n\u001b[0;32m      1\u001b[0m \u001b[38;5;66;03m# Create Datasets\u001b[39;00m\n\u001b[1;32m----> 2\u001b[0m tau\u001b[38;5;241m=\u001b[39m\u001b[43mnp\u001b[49m\u001b[38;5;241m.\u001b[39mlinspace(\u001b[38;5;241m0\u001b[39m, \u001b[38;5;241m80\u001b[39m, \u001b[38;5;241m161\u001b[39m)  \u001b[38;5;66;03m# ns\u001b[39;00m\n\u001b[0;32m      3\u001b[0m df\u001b[38;5;241m=\u001b[39mnp\u001b[38;5;241m.\u001b[39mlinspace(\u001b[38;5;241m-\u001b[39m\u001b[38;5;241m60\u001b[39m,\u001b[38;5;241m60\u001b[39m,\u001b[38;5;241m201\u001b[39m) \u001b[38;5;66;03m# MHz\u001b[39;00m\n\u001b[0;32m      4\u001b[0m Omega0\u001b[38;5;241m=\u001b[39m\u001b[38;5;241m0.2\u001b[39m \u001b[38;5;66;03m# ns/rad\u001b[39;00m\n",
      "\u001b[1;31mNameError\u001b[0m: name 'np' is not defined"
     ]
    }
   ],
   "source": [
    "# Create Datasets\n",
    "tau=np.linspace(0, 80, 161)  # ns\n",
    "df=np.linspace(-60,60,201) # MHz\n",
    "Omega0=0.2 # ns/rad\n",
    "Delta=mhz_to_rad_ns(df) # rad/ns\n",
    "A0=24 # a.u. \n",
    "phi=0.0 # rad\n",
    "T2=40 # ns\n",
    "\n",
    "I=np.zeros((len(tau), len(df)))\n",
    "for i, t in enumerate(tau):\n",
    "    for j, d in enumerate(Delta):\n",
    "        A=Rabi_amp(A0, Omega0, d)\n",
    "        Omega=Rabi_rate(Omega0, d)\n",
    "        I[i,j] = Rabi(t, A, Omega,T2, phi, 0)\n",
    "\n",
    "\n"
   ]
  },
  {
   "cell_type": "code",
   "execution_count": null,
   "metadata": {},
   "outputs": [],
   "source": [
    "plt.figure(figsize=(10, 6))\n",
    "plt.imshow(I, extent=[df[0], df[-1], tau[0], tau[-1]], aspect='auto', origin='lower', cmap='viridis')\n",
    "plt.colorbar(label='Intensity')\n",
    "plt.xlabel('Detuning (MHz)')\n",
    "plt.ylabel('Time (ns)')\n",
    "plt.title('Colormap of I')\n",
    "plt.show()"
   ]
  }
 ],
 "metadata": {
  "kernelspec": {
   "display_name": "Python 3",
   "language": "python",
   "name": "python3"
  },
  "language_info": {
   "codemirror_mode": {
    "name": "ipython",
    "version": 3
   },
   "file_extension": ".py",
   "mimetype": "text/x-python",
   "name": "python",
   "nbconvert_exporter": "python",
   "pygments_lexer": "ipython3",
   "version": "3.13.0"
  }
 },
 "nbformat": 4,
 "nbformat_minor": 2
}
